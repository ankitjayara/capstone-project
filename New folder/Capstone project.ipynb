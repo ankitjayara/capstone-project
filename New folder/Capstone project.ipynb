{
 "cells": [
  {
   "cell_type": "markdown",
   "id": "4b4d43cf",
   "metadata": {},
   "source": [
    "### Problem statement "
   ]
  },
  {
   "cell_type": "markdown",
   "id": "932082af",
   "metadata": {},
   "source": [
    "#### Identifying how the salary is varying to other factors"
   ]
  },
  {
   "cell_type": "markdown",
   "id": "aec02f2f",
   "metadata": {},
   "source": [
    "### Basic Exploratory steps"
   ]
  },
  {
   "cell_type": "code",
   "execution_count": 35,
   "id": "024b4235",
   "metadata": {},
   "outputs": [],
   "source": [
    "#importing libraries\n",
    "import pandas as pd\n",
    "import numpy as np\n",
    "import seaborn as sns\n",
    "import matplotlib.pyplot as plt\n",
    "from scipy import stats\n",
    "import scipy as scipy\n"
   ]
  },
  {
   "cell_type": "code",
   "execution_count": 36,
   "id": "13795519",
   "metadata": {},
   "outputs": [
    {
     "data": {
      "text/html": [
       "<div>\n",
       "<style scoped>\n",
       "    .dataframe tbody tr th:only-of-type {\n",
       "        vertical-align: middle;\n",
       "    }\n",
       "\n",
       "    .dataframe tbody tr th {\n",
       "        vertical-align: top;\n",
       "    }\n",
       "\n",
       "    .dataframe thead th {\n",
       "        text-align: right;\n",
       "    }\n",
       "</style>\n",
       "<table border=\"1\" class=\"dataframe\">\n",
       "  <thead>\n",
       "    <tr style=\"text-align: right;\">\n",
       "      <th></th>\n",
       "      <th>Gender</th>\n",
       "      <th>Business</th>\n",
       "      <th>Dependancies</th>\n",
       "      <th>Calls</th>\n",
       "      <th>Type</th>\n",
       "      <th>Billing</th>\n",
       "      <th>Rating</th>\n",
       "      <th>Age</th>\n",
       "      <th>Salary</th>\n",
       "      <th>Base_pay</th>\n",
       "      <th>Bonus</th>\n",
       "      <th>Unit_Price</th>\n",
       "      <th>Volume</th>\n",
       "      <th>openingbalance</th>\n",
       "      <th>closingbalance</th>\n",
       "      <th>low</th>\n",
       "      <th>Unit_Sales</th>\n",
       "      <th>Total_Sales</th>\n",
       "      <th>Months</th>\n",
       "      <th>Education</th>\n",
       "    </tr>\n",
       "  </thead>\n",
       "  <tbody>\n",
       "    <tr>\n",
       "      <th>0</th>\n",
       "      <td>Female</td>\n",
       "      <td>0</td>\n",
       "      <td>No</td>\n",
       "      <td>Yes</td>\n",
       "      <td>Month-to-month</td>\n",
       "      <td>No</td>\n",
       "      <td>Yes</td>\n",
       "      <td>18</td>\n",
       "      <td>5089.00</td>\n",
       "      <td>2035.600</td>\n",
       "      <td>254.4500</td>\n",
       "      <td>3.77</td>\n",
       "      <td>21226600</td>\n",
       "      <td>3.75</td>\n",
       "      <td>3.76</td>\n",
       "      <td>3.65</td>\n",
       "      <td>18.25</td>\n",
       "      <td>18.8</td>\n",
       "      <td>0</td>\n",
       "      <td>High School or less</td>\n",
       "    </tr>\n",
       "    <tr>\n",
       "      <th>1</th>\n",
       "      <td>Female</td>\n",
       "      <td>0</td>\n",
       "      <td>No</td>\n",
       "      <td>Yes</td>\n",
       "      <td>Month-to-month</td>\n",
       "      <td>No</td>\n",
       "      <td>Yes</td>\n",
       "      <td>19</td>\n",
       "      <td>5698.12</td>\n",
       "      <td>2279.248</td>\n",
       "      <td>284.9060</td>\n",
       "      <td>3.74</td>\n",
       "      <td>10462800</td>\n",
       "      <td>3.85</td>\n",
       "      <td>3.68</td>\n",
       "      <td>3.65</td>\n",
       "      <td>18.40</td>\n",
       "      <td>18.85</td>\n",
       "      <td>0</td>\n",
       "      <td>High School or less</td>\n",
       "    </tr>\n",
       "    <tr>\n",
       "      <th>2</th>\n",
       "      <td>Male</td>\n",
       "      <td>0</td>\n",
       "      <td>No</td>\n",
       "      <td>Yes</td>\n",
       "      <td>Month-to-month</td>\n",
       "      <td>Yes</td>\n",
       "      <td>No</td>\n",
       "      <td>22</td>\n",
       "      <td>5896.65</td>\n",
       "      <td>2358.660</td>\n",
       "      <td>294.8325</td>\n",
       "      <td>3.89</td>\n",
       "      <td>18761000</td>\n",
       "      <td>4.23</td>\n",
       "      <td>4.29</td>\n",
       "      <td>3.72</td>\n",
       "      <td>18.70</td>\n",
       "      <td>18.9</td>\n",
       "      <td>0</td>\n",
       "      <td>High School or less</td>\n",
       "    </tr>\n",
       "    <tr>\n",
       "      <th>3</th>\n",
       "      <td>Female</td>\n",
       "      <td>1</td>\n",
       "      <td>No</td>\n",
       "      <td>Yes</td>\n",
       "      <td>Month-to-month</td>\n",
       "      <td>Yes</td>\n",
       "      <td>Yes</td>\n",
       "      <td>21</td>\n",
       "      <td>6125.12</td>\n",
       "      <td>2450.048</td>\n",
       "      <td>306.2560</td>\n",
       "      <td>4.35</td>\n",
       "      <td>66130600</td>\n",
       "      <td>4.26</td>\n",
       "      <td>4.31</td>\n",
       "      <td>3.83</td>\n",
       "      <td>18.75</td>\n",
       "      <td>19</td>\n",
       "      <td>0</td>\n",
       "      <td>High School or less</td>\n",
       "    </tr>\n",
       "    <tr>\n",
       "      <th>4</th>\n",
       "      <td>Male</td>\n",
       "      <td>0</td>\n",
       "      <td>No</td>\n",
       "      <td>Yes</td>\n",
       "      <td>Month-to-month</td>\n",
       "      <td>Yes</td>\n",
       "      <td>Yes</td>\n",
       "      <td>23</td>\n",
       "      <td>6245.00</td>\n",
       "      <td>2498.000</td>\n",
       "      <td>312.2500</td>\n",
       "      <td>4.34</td>\n",
       "      <td>26868200</td>\n",
       "      <td>4.79</td>\n",
       "      <td>4.41</td>\n",
       "      <td>4.08</td>\n",
       "      <td>18.80</td>\n",
       "      <td>19.05</td>\n",
       "      <td>1</td>\n",
       "      <td>High School or less</td>\n",
       "    </tr>\n",
       "  </tbody>\n",
       "</table>\n",
       "</div>"
      ],
      "text/plain": [
       "   Gender  Business Dependancies Calls            Type Billing Rating  Age  \\\n",
       "0  Female         0           No   Yes  Month-to-month      No    Yes   18   \n",
       "1  Female         0           No   Yes  Month-to-month      No    Yes   19   \n",
       "2    Male         0           No   Yes  Month-to-month     Yes     No   22   \n",
       "3  Female         1           No   Yes  Month-to-month     Yes    Yes   21   \n",
       "4    Male         0           No   Yes  Month-to-month     Yes    Yes   23   \n",
       "\n",
       "    Salary  Base_pay     Bonus  Unit_Price    Volume  openingbalance  \\\n",
       "0  5089.00  2035.600  254.4500        3.77  21226600            3.75   \n",
       "1  5698.12  2279.248  284.9060        3.74  10462800            3.85   \n",
       "2  5896.65  2358.660  294.8325        3.89  18761000            4.23   \n",
       "3  6125.12  2450.048  306.2560        4.35  66130600            4.26   \n",
       "4  6245.00  2498.000  312.2500        4.34  26868200            4.79   \n",
       "\n",
       "   closingbalance   low  Unit_Sales Total_Sales  Months            Education  \n",
       "0            3.76  3.65       18.25        18.8       0  High School or less  \n",
       "1            3.68  3.65       18.40       18.85       0  High School or less  \n",
       "2            4.29  3.72       18.70        18.9       0  High School or less  \n",
       "3            4.31  3.83       18.75          19       0  High School or less  \n",
       "4            4.41  4.08       18.80       19.05       1  High School or less  "
      ]
     },
     "execution_count": 36,
     "metadata": {},
     "output_type": "execute_result"
    }
   ],
   "source": [
    "#reading dataset using pandas and storing  in variable hr\n",
    "hr=pd.read_csv('C:\\\\Users\\\\DELL\\\\Desktop\\\\dataset\\\\New_data_Set.csv')\n",
    "hr.head(5)"
   ]
  },
  {
   "cell_type": "code",
   "execution_count": 37,
   "id": "a8a2cade",
   "metadata": {},
   "outputs": [
    {
     "data": {
      "text/plain": [
       "Index(['Gender', 'Business', 'Dependancies', 'Calls', 'Type', 'Billing',\n",
       "       'Rating', 'Age', 'Salary', 'Base_pay', 'Bonus', 'Unit_Price', 'Volume',\n",
       "       'openingbalance', 'closingbalance', 'low', 'Unit_Sales', 'Total_Sales',\n",
       "       'Months', 'Education'],\n",
       "      dtype='object')"
      ]
     },
     "execution_count": 37,
     "metadata": {},
     "output_type": "execute_result"
    }
   ],
   "source": [
    "#displaying columns \n",
    "hr.columns"
   ]
  },
  {
   "cell_type": "markdown",
   "id": "c582b533",
   "metadata": {},
   "source": [
    "# Feature Description\n",
    "\n",
    "* Gender - talks of the gender - Male or female\n",
    "* Business - if the person has a business or no\n",
    "* Age - age of the person\n",
    "* Salary - CTC of the employee\n",
    "* Dependants - number of people dependant on the person\n",
    "* Months - duration of the person employed with the company\n",
    "* Calls - if the person has authority to make calls or not\n",
    "* Type - salary settlement type\n",
    "* Billing - Subscribed to billing plans or no\n",
    "* Unit sales - unit sale made by the person\n",
    "* Total sales - total sales made by the person\n",
    "* Rating - If he has been given a rating by a superior or no\n",
    "* Bonus - amount received by a person as bonus for sales\n",
    "* Base pay - Base pay of the employee\n",
    "* Unit price - The Unit price of a sale\n",
    "* Volume - volume allotted to a person\n",
    "* Opening balance - The opening balance of an employee\n",
    "* Low - lowest balance allotted to a person.\n",
    "* Closing Balance- The closing balance of an employee\n",
    "* Education- Educational background of an employee\n"
   ]
  },
  {
   "cell_type": "code",
   "execution_count": 38,
   "id": "71edbf7b",
   "metadata": {},
   "outputs": [
    {
     "data": {
      "text/plain": [
       "(5000, 20)"
      ]
     },
     "execution_count": 38,
     "metadata": {},
     "output_type": "execute_result"
    }
   ],
   "source": [
    "#displaying rows and column of dataset(5000 rows,20 columns)\n",
    "hr.shape"
   ]
  },
  {
   "cell_type": "code",
   "execution_count": 39,
   "id": "a54e5e37",
   "metadata": {},
   "outputs": [
    {
     "data": {
      "text/html": [
       "<div>\n",
       "<style scoped>\n",
       "    .dataframe tbody tr th:only-of-type {\n",
       "        vertical-align: middle;\n",
       "    }\n",
       "\n",
       "    .dataframe tbody tr th {\n",
       "        vertical-align: top;\n",
       "    }\n",
       "\n",
       "    .dataframe thead th {\n",
       "        text-align: right;\n",
       "    }\n",
       "</style>\n",
       "<table border=\"1\" class=\"dataframe\">\n",
       "  <thead>\n",
       "    <tr style=\"text-align: right;\">\n",
       "      <th></th>\n",
       "      <th>Gender</th>\n",
       "      <th>Business</th>\n",
       "      <th>Dependancies</th>\n",
       "      <th>Calls</th>\n",
       "      <th>Type</th>\n",
       "      <th>Billing</th>\n",
       "      <th>Rating</th>\n",
       "      <th>Age</th>\n",
       "      <th>Salary</th>\n",
       "      <th>Base_pay</th>\n",
       "      <th>Bonus</th>\n",
       "      <th>Unit_Price</th>\n",
       "      <th>Volume</th>\n",
       "      <th>openingbalance</th>\n",
       "      <th>closingbalance</th>\n",
       "      <th>low</th>\n",
       "      <th>Unit_Sales</th>\n",
       "      <th>Total_Sales</th>\n",
       "      <th>Months</th>\n",
       "      <th>Education</th>\n",
       "    </tr>\n",
       "  </thead>\n",
       "  <tbody>\n",
       "    <tr>\n",
       "      <th>0</th>\n",
       "      <td>Female</td>\n",
       "      <td>0</td>\n",
       "      <td>No</td>\n",
       "      <td>Yes</td>\n",
       "      <td>Month-to-month</td>\n",
       "      <td>No</td>\n",
       "      <td>Yes</td>\n",
       "      <td>18</td>\n",
       "      <td>5089.00</td>\n",
       "      <td>2035.600</td>\n",
       "      <td>254.450</td>\n",
       "      <td>3.77</td>\n",
       "      <td>21226600</td>\n",
       "      <td>3.75</td>\n",
       "      <td>3.76</td>\n",
       "      <td>3.65</td>\n",
       "      <td>18.25</td>\n",
       "      <td>18.8</td>\n",
       "      <td>0</td>\n",
       "      <td>High School or less</td>\n",
       "    </tr>\n",
       "    <tr>\n",
       "      <th>1</th>\n",
       "      <td>Female</td>\n",
       "      <td>0</td>\n",
       "      <td>No</td>\n",
       "      <td>Yes</td>\n",
       "      <td>Month-to-month</td>\n",
       "      <td>No</td>\n",
       "      <td>Yes</td>\n",
       "      <td>19</td>\n",
       "      <td>5698.12</td>\n",
       "      <td>2279.248</td>\n",
       "      <td>284.906</td>\n",
       "      <td>3.74</td>\n",
       "      <td>10462800</td>\n",
       "      <td>3.85</td>\n",
       "      <td>3.68</td>\n",
       "      <td>3.65</td>\n",
       "      <td>18.40</td>\n",
       "      <td>18.85</td>\n",
       "      <td>0</td>\n",
       "      <td>High School or less</td>\n",
       "    </tr>\n",
       "  </tbody>\n",
       "</table>\n",
       "</div>"
      ],
      "text/plain": [
       "   Gender  Business Dependancies Calls            Type Billing Rating  Age  \\\n",
       "0  Female         0           No   Yes  Month-to-month      No    Yes   18   \n",
       "1  Female         0           No   Yes  Month-to-month      No    Yes   19   \n",
       "\n",
       "    Salary  Base_pay    Bonus  Unit_Price    Volume  openingbalance  \\\n",
       "0  5089.00  2035.600  254.450        3.77  21226600            3.75   \n",
       "1  5698.12  2279.248  284.906        3.74  10462800            3.85   \n",
       "\n",
       "   closingbalance   low  Unit_Sales Total_Sales  Months            Education  \n",
       "0            3.76  3.65       18.25        18.8       0  High School or less  \n",
       "1            3.68  3.65       18.40       18.85       0  High School or less  "
      ]
     },
     "execution_count": 39,
     "metadata": {},
     "output_type": "execute_result"
    }
   ],
   "source": [
    "hr=hr.replace(r'^\\s*$',np.NaN,regex=True)\n",
    "hr.head(2)"
   ]
  },
  {
   "cell_type": "code",
   "execution_count": 40,
   "id": "bbf98492",
   "metadata": {},
   "outputs": [
    {
     "data": {
      "text/plain": [
       "Gender             object\n",
       "Business            int64\n",
       "Dependancies       object\n",
       "Calls              object\n",
       "Type               object\n",
       "Billing            object\n",
       "Rating             object\n",
       "Age                 int64\n",
       "Salary            float64\n",
       "Base_pay          float64\n",
       "Bonus             float64\n",
       "Unit_Price        float64\n",
       "Volume              int64\n",
       "openingbalance    float64\n",
       "closingbalance    float64\n",
       "low               float64\n",
       "Unit_Sales        float64\n",
       "Total_Sales        object\n",
       "Months              int64\n",
       "Education          object\n",
       "dtype: object"
      ]
     },
     "execution_count": 40,
     "metadata": {},
     "output_type": "execute_result"
    }
   ],
   "source": [
    "#displaying columns type\n",
    "hr.dtypes"
   ]
  },
  {
   "cell_type": "code",
   "execution_count": 41,
   "id": "7722d99e",
   "metadata": {},
   "outputs": [
    {
     "data": {
      "text/plain": [
       "Gender               0\n",
       "Business             0\n",
       "Dependancies         0\n",
       "Calls                0\n",
       "Type                 0\n",
       "Billing              0\n",
       "Rating               0\n",
       "Age                  0\n",
       "Salary               0\n",
       "Base_pay            23\n",
       "Bonus                0\n",
       "Unit_Price           0\n",
       "Volume               0\n",
       "openingbalance    1476\n",
       "closingbalance       0\n",
       "low                  0\n",
       "Unit_Sales           0\n",
       "Total_Sales         16\n",
       "Months               0\n",
       "Education            0\n",
       "dtype: int64"
      ]
     },
     "execution_count": 41,
     "metadata": {},
     "output_type": "execute_result"
    }
   ],
   "source": [
    "#finding null values in dataset\n",
    "hr.isnull().sum()"
   ]
  },
  {
   "cell_type": "code",
   "execution_count": 42,
   "id": "1179652a",
   "metadata": {},
   "outputs": [
    {
     "data": {
      "text/plain": [
       "Gender             0.00\n",
       "Business           0.00\n",
       "Dependancies       0.00\n",
       "Calls              0.00\n",
       "Type               0.00\n",
       "Billing            0.00\n",
       "Rating             0.00\n",
       "Age                0.00\n",
       "Salary             0.00\n",
       "Base_pay           0.46\n",
       "Bonus              0.00\n",
       "Unit_Price         0.00\n",
       "Volume             0.00\n",
       "openingbalance    29.52\n",
       "closingbalance     0.00\n",
       "low                0.00\n",
       "Unit_Sales         0.00\n",
       "Total_Sales        0.32\n",
       "Months             0.00\n",
       "Education          0.00\n",
       "dtype: float64"
      ]
     },
     "execution_count": 42,
     "metadata": {},
     "output_type": "execute_result"
    }
   ],
   "source": [
    "# percentage of null values\n",
    "hr.isna().sum()/len(hr)*100"
   ]
  },
  {
   "cell_type": "markdown",
   "id": "44c01bc7",
   "metadata": {},
   "source": [
    "### Since openingbalance  has nearly 30% missing values, so removing it from the dataset"
   ]
  },
  {
   "cell_type": "code",
   "execution_count": 43,
   "id": "08a91d70",
   "metadata": {},
   "outputs": [],
   "source": [
    "hr.drop(columns='openingbalance', inplace=True)"
   ]
  },
  {
   "cell_type": "code",
   "execution_count": 44,
   "id": "d583c1c0",
   "metadata": {},
   "outputs": [
    {
     "data": {
      "text/plain": [
       "Index(['Gender', 'Business', 'Dependancies', 'Calls', 'Type', 'Billing',\n",
       "       'Rating', 'Age', 'Salary', 'Base_pay', 'Bonus', 'Unit_Price', 'Volume',\n",
       "       'closingbalance', 'low', 'Unit_Sales', 'Total_Sales', 'Months',\n",
       "       'Education'],\n",
       "      dtype='object')"
      ]
     },
     "execution_count": 44,
     "metadata": {},
     "output_type": "execute_result"
    }
   ],
   "source": [
    "hr.columns"
   ]
  },
  {
   "cell_type": "code",
   "execution_count": 45,
   "id": "a244e20d",
   "metadata": {},
   "outputs": [
    {
     "name": "stderr",
     "output_type": "stream",
     "text": [
      "C:\\Users\\DELL\\anaconda3\\lib\\site-packages\\seaborn\\distributions.py:2557: FutureWarning: `distplot` is a deprecated function and will be removed in a future version. Please adapt your code to use either `displot` (a figure-level function with similar flexibility) or `histplot` (an axes-level function for histograms).\n",
      "  warnings.warn(msg, FutureWarning)\n"
     ]
    },
    {
     "data": {
      "text/plain": [
       "<AxesSubplot:xlabel='Base_pay', ylabel='Density'>"
      ]
     },
     "execution_count": 45,
     "metadata": {},
     "output_type": "execute_result"
    },
    {
     "data": {
      "image/png": "[encoded data removed]",
      "text/plain": [
       "<Figure size 432x288 with 1 Axes>"
      ]
     },
     "metadata": {
      "needs_background": "light"
     },
     "output_type": "display_data"
    }
   ],
   "source": [
    "sns.distplot(hr['Base_pay'],kde=True)"
   ]
  },
  {
   "cell_type": "code",
   "execution_count": 46,
   "id": "15f9a031",
   "metadata": {},
   "outputs": [
    {
     "name": "stderr",
     "output_type": "stream",
     "text": [
      "C:\\Users\\DELL\\anaconda3\\lib\\site-packages\\seaborn\\distributions.py:2557: FutureWarning: `distplot` is a deprecated function and will be removed in a future version. Please adapt your code to use either `displot` (a figure-level function with similar flexibility) or `histplot` (an axes-level function for histograms).\n",
      "  warnings.warn(msg, FutureWarning)\n"
     ]
    },
    {
     "data": {
      "text/plain": [
       "<AxesSubplot:xlabel='Total_Sales', ylabel='Density'>"
      ]
     },
     "execution_count": 46,
     "metadata": {},
     "output_type": "execute_result"
    },
    {
     "data": {
      "image/png": "[encoded data removed]",
      "text/plain": [
       "<Figure size 432x288 with 1 Axes>"
      ]
     },
     "metadata": {
      "needs_background": "light"
     },
     "output_type": "display_data"
    }
   ],
   "source": [
    "sns.distplot(hr['Total_Sales'],kde=True)"
   ]
  },
  {
   "cell_type": "markdown",
   "id": "f662054e",
   "metadata": {},
   "source": [
    "#### As base pay is normally distributed wo will replace null values with mean and total_sales is not normally distributed so we replace null values with medain "
   ]
  },
  {
   "cell_type": "code",
   "execution_count": 48,
   "id": "49c70b73",
   "metadata": {},
   "outputs": [],
   "source": [
    "hr['Base_pay'].fillna((hr['Base_pay'].mean()),inplace=True) #replacing null values with mean\n",
    "hr['Total_Sales']=pd.to_numeric(hr['Total_Sales'],errors='coerce') #changing datatype\n",
    "hr['Total_Sales'].fillna((hr['Total_Sales'].median()),inplace=True) #replacing null values with mean"
   ]
  },
  {
   "cell_type": "code",
   "execution_count": 49,
   "id": "c5e6a863",
   "metadata": {},
   "outputs": [
    {
     "name": "stdout",
     "output_type": "stream",
     "text": [
      "<class 'pandas.core.frame.DataFrame'>\n",
      "RangeIndex: 5000 entries, 0 to 4999\n",
      "Data columns (total 19 columns):\n",
      " #   Column          Non-Null Count  Dtype  \n",
      "---  ------          --------------  -----  \n",
      " 0   Gender          5000 non-null   object \n",
      " 1   Business        5000 non-null   int64  \n",
      " 2   Dependancies    5000 non-null   object \n",
      " 3   Calls           5000 non-null   object \n",
      " 4   Type            5000 non-null   object \n",
      " 5   Billing         5000 non-null   object \n",
      " 6   Rating          5000 non-null   object \n",
      " 7   Age             5000 non-null   int64  \n",
      " 8   Salary          5000 non-null   float64\n",
      " 9   Base_pay        5000 non-null   float64\n",
      " 10  Bonus           5000 non-null   float64\n",
      " 11  Unit_Price      5000 non-null   float64\n",
      " 12  Volume          5000 non-null   int64  \n",
      " 13  closingbalance  5000 non-null   float64\n",
      " 14  low             5000 non-null   float64\n",
      " 15  Unit_Sales      5000 non-null   float64\n",
      " 16  Total_Sales     5000 non-null   float64\n",
      " 17  Months          5000 non-null   int64  \n",
      " 18  Education       5000 non-null   object \n",
      "dtypes: float64(8), int64(4), object(7)\n",
      "memory usage: 742.3+ KB\n"
     ]
    }
   ],
   "source": [
    "#finding information of dataset using info()\n",
    "hr.info()"
   ]
  },
  {
   "cell_type": "markdown",
   "id": "70908576",
   "metadata": {},
   "source": [
    "### here we can see that there are no null values present and datatype of totalsales is also changed"
   ]
  },
  {
   "cell_type": "code",
   "execution_count": 50,
   "id": "d17b500d",
   "metadata": {},
   "outputs": [
    {
     "data": {
      "text/html": [
       "<div>\n",
       "<style scoped>\n",
       "    .dataframe tbody tr th:only-of-type {\n",
       "        vertical-align: middle;\n",
       "    }\n",
       "\n",
       "    .dataframe tbody tr th {\n",
       "        vertical-align: top;\n",
       "    }\n",
       "\n",
       "    .dataframe thead th {\n",
       "        text-align: right;\n",
       "    }\n",
       "</style>\n",
       "<table border=\"1\" class=\"dataframe\">\n",
       "  <thead>\n",
       "    <tr style=\"text-align: right;\">\n",
       "      <th></th>\n",
       "      <th>Business</th>\n",
       "      <th>Age</th>\n",
       "      <th>Salary</th>\n",
       "      <th>Base_pay</th>\n",
       "      <th>Bonus</th>\n",
       "      <th>Unit_Price</th>\n",
       "      <th>Volume</th>\n",
       "      <th>closingbalance</th>\n",
       "      <th>low</th>\n",
       "      <th>Unit_Sales</th>\n",
       "      <th>Total_Sales</th>\n",
       "      <th>Months</th>\n",
       "    </tr>\n",
       "  </thead>\n",
       "  <tbody>\n",
       "    <tr>\n",
       "      <th>count</th>\n",
       "      <td>5000.000000</td>\n",
       "      <td>5000.000000</td>\n",
       "      <td>5000.000000</td>\n",
       "      <td>5000.000000</td>\n",
       "      <td>5000.000000</td>\n",
       "      <td>5000.000000</td>\n",
       "      <td>5.000000e+03</td>\n",
       "      <td>5000.000000</td>\n",
       "      <td>5000.000000</td>\n",
       "      <td>5000.00000</td>\n",
       "      <td>5000.00000</td>\n",
       "      <td>5000.00000</td>\n",
       "    </tr>\n",
       "    <tr>\n",
       "      <th>mean</th>\n",
       "      <td>0.160000</td>\n",
       "      <td>51.865000</td>\n",
       "      <td>99821.928553</td>\n",
       "      <td>40046.187707</td>\n",
       "      <td>4991.096428</td>\n",
       "      <td>51.258522</td>\n",
       "      <td>6.761260e+06</td>\n",
       "      <td>43.577828</td>\n",
       "      <td>43.034129</td>\n",
       "      <td>64.84151</td>\n",
       "      <td>2269.56846</td>\n",
       "      <td>32.18480</td>\n",
       "    </tr>\n",
       "    <tr>\n",
       "      <th>std</th>\n",
       "      <td>0.366643</td>\n",
       "      <td>8.560691</td>\n",
       "      <td>25376.961744</td>\n",
       "      <td>10112.342452</td>\n",
       "      <td>1268.848087</td>\n",
       "      <td>52.244022</td>\n",
       "      <td>1.620476e+07</td>\n",
       "      <td>37.148512</td>\n",
       "      <td>36.760641</td>\n",
       "      <td>30.13968</td>\n",
       "      <td>2264.62695</td>\n",
       "      <td>24.63673</td>\n",
       "    </tr>\n",
       "    <tr>\n",
       "      <th>min</th>\n",
       "      <td>0.000000</td>\n",
       "      <td>18.000000</td>\n",
       "      <td>5089.000000</td>\n",
       "      <td>2035.600000</td>\n",
       "      <td>254.450000</td>\n",
       "      <td>1.440000</td>\n",
       "      <td>0.000000e+00</td>\n",
       "      <td>3.680000</td>\n",
       "      <td>3.650000</td>\n",
       "      <td>18.25000</td>\n",
       "      <td>18.80000</td>\n",
       "      <td>0.00000</td>\n",
       "    </tr>\n",
       "    <tr>\n",
       "      <th>25%</th>\n",
       "      <td>0.000000</td>\n",
       "      <td>47.000000</td>\n",
       "      <td>83890.338980</td>\n",
       "      <td>33744.021630</td>\n",
       "      <td>4194.516950</td>\n",
       "      <td>25.727500</td>\n",
       "      <td>1.283850e+06</td>\n",
       "      <td>21.990000</td>\n",
       "      <td>21.718750</td>\n",
       "      <td>35.50000</td>\n",
       "      <td>389.21250</td>\n",
       "      <td>8.00000</td>\n",
       "    </tr>\n",
       "    <tr>\n",
       "      <th>50%</th>\n",
       "      <td>0.000000</td>\n",
       "      <td>52.000000</td>\n",
       "      <td>100579.378500</td>\n",
       "      <td>40231.751415</td>\n",
       "      <td>5028.968925</td>\n",
       "      <td>39.205000</td>\n",
       "      <td>2.870600e+06</td>\n",
       "      <td>33.340000</td>\n",
       "      <td>32.880001</td>\n",
       "      <td>70.50000</td>\n",
       "      <td>1395.65000</td>\n",
       "      <td>28.00000</td>\n",
       "    </tr>\n",
       "    <tr>\n",
       "      <th>75%</th>\n",
       "      <td>0.000000</td>\n",
       "      <td>57.000000</td>\n",
       "      <td>116912.092475</td>\n",
       "      <td>46764.836975</td>\n",
       "      <td>5845.604624</td>\n",
       "      <td>58.715000</td>\n",
       "      <td>6.247100e+06</td>\n",
       "      <td>51.117500</td>\n",
       "      <td>50.415000</td>\n",
       "      <td>89.95000</td>\n",
       "      <td>3722.33750</td>\n",
       "      <td>55.00000</td>\n",
       "    </tr>\n",
       "    <tr>\n",
       "      <th>max</th>\n",
       "      <td>1.000000</td>\n",
       "      <td>88.000000</td>\n",
       "      <td>199970.740000</td>\n",
       "      <td>79988.296000</td>\n",
       "      <td>9998.537000</td>\n",
       "      <td>629.511067</td>\n",
       "      <td>3.208684e+08</td>\n",
       "      <td>313.688694</td>\n",
       "      <td>312.432438</td>\n",
       "      <td>118.75000</td>\n",
       "      <td>8684.80000</td>\n",
       "      <td>72.00000</td>\n",
       "    </tr>\n",
       "  </tbody>\n",
       "</table>\n",
       "</div>"
      ],
      "text/plain": [
       "          Business          Age         Salary      Base_pay        Bonus  \\\n",
       "count  5000.000000  5000.000000    5000.000000   5000.000000  5000.000000   \n",
       "mean      0.160000    51.865000   99821.928553  40046.187707  4991.096428   \n",
       "std       0.366643     8.560691   25376.961744  10112.342452  1268.848087   \n",
       "min       0.000000    18.000000    5089.000000   2035.600000   254.450000   \n",
       "25%       0.000000    47.000000   83890.338980  33744.021630  4194.516950   \n",
       "50%       0.000000    52.000000  100579.378500  40231.751415  5028.968925   \n",
       "75%       0.000000    57.000000  116912.092475  46764.836975  5845.604624   \n",
       "max       1.000000    88.000000  199970.740000  79988.296000  9998.537000   \n",
       "\n",
       "        Unit_Price        Volume  closingbalance          low  Unit_Sales  \\\n",
       "count  5000.000000  5.000000e+03     5000.000000  5000.000000  5000.00000   \n",
       "mean     51.258522  6.761260e+06       43.577828    43.034129    64.84151   \n",
       "std      52.244022  1.620476e+07       37.148512    36.760641    30.13968   \n",
       "min       1.440000  0.000000e+00        3.680000     3.650000    18.25000   \n",
       "25%      25.727500  1.283850e+06       21.990000    21.718750    35.50000   \n",
       "50%      39.205000  2.870600e+06       33.340000    32.880001    70.50000   \n",
       "75%      58.715000  6.247100e+06       51.117500    50.415000    89.95000   \n",
       "max     629.511067  3.208684e+08      313.688694   312.432438   118.75000   \n",
       "\n",
       "       Total_Sales      Months  \n",
       "count   5000.00000  5000.00000  \n",
       "mean    2269.56846    32.18480  \n",
       "std     2264.62695    24.63673  \n",
       "min       18.80000     0.00000  \n",
       "25%      389.21250     8.00000  \n",
       "50%     1395.65000    28.00000  \n",
       "75%     3722.33750    55.00000  \n",
       "max     8684.80000    72.00000  "
      ]
     },
     "execution_count": 50,
     "metadata": {},
     "output_type": "execute_result"
    }
   ],
   "source": [
    "#describe will show each column count mean median etc.\n",
    "hr.describe()"
   ]
  },
  {
   "cell_type": "code",
   "execution_count": 51,
   "id": "604f11f2",
   "metadata": {},
   "outputs": [
    {
     "data": {
      "text/plain": [
       "0"
      ]
     },
     "execution_count": 51,
     "metadata": {},
     "output_type": "execute_result"
    }
   ],
   "source": [
    "#checking for duplicate values\n",
    "hr.duplicated().sum()"
   ]
  },
  {
   "cell_type": "markdown",
   "id": "4a350d29",
   "metadata": {},
   "source": [
    "### there are no duplicate values present in dataset"
   ]
  },
  {
   "cell_type": "markdown",
   "id": "5933bff0",
   "metadata": {},
   "source": [
    "### checking correlation using spearman"
   ]
  },
  {
   "cell_type": "code",
   "execution_count": 52,
   "id": "95143b5c",
   "metadata": {},
   "outputs": [
    {
     "data": {
      "text/html": [
       "<div>\n",
       "<style scoped>\n",
       "    .dataframe tbody tr th:only-of-type {\n",
       "        vertical-align: middle;\n",
       "    }\n",
       "\n",
       "    .dataframe tbody tr th {\n",
       "        vertical-align: top;\n",
       "    }\n",
       "\n",
       "    .dataframe thead th {\n",
       "        text-align: right;\n",
       "    }\n",
       "</style>\n",
       "<table border=\"1\" class=\"dataframe\">\n",
       "  <thead>\n",
       "    <tr style=\"text-align: right;\">\n",
       "      <th></th>\n",
       "      <th>Business</th>\n",
       "      <th>Age</th>\n",
       "      <th>Salary</th>\n",
       "      <th>Base_pay</th>\n",
       "      <th>Bonus</th>\n",
       "      <th>Unit_Price</th>\n",
       "      <th>Volume</th>\n",
       "      <th>closingbalance</th>\n",
       "      <th>low</th>\n",
       "      <th>Unit_Sales</th>\n",
       "      <th>Total_Sales</th>\n",
       "      <th>Months</th>\n",
       "    </tr>\n",
       "  </thead>\n",
       "  <tbody>\n",
       "    <tr>\n",
       "      <th>Business</th>\n",
       "      <td>1.000000</td>\n",
       "      <td>-0.008435</td>\n",
       "      <td>-0.018403</td>\n",
       "      <td>-0.019262</td>\n",
       "      <td>-0.018403</td>\n",
       "      <td>-0.019480</td>\n",
       "      <td>-0.002192</td>\n",
       "      <td>-0.007485</td>\n",
       "      <td>-0.018103</td>\n",
       "      <td>-0.018363</td>\n",
       "      <td>-0.019652</td>\n",
       "      <td>-0.012282</td>\n",
       "    </tr>\n",
       "    <tr>\n",
       "      <th>Age</th>\n",
       "      <td>-0.008435</td>\n",
       "      <td>1.000000</td>\n",
       "      <td>0.202282</td>\n",
       "      <td>0.192930</td>\n",
       "      <td>0.202282</td>\n",
       "      <td>0.128266</td>\n",
       "      <td>-0.039345</td>\n",
       "      <td>0.440989</td>\n",
       "      <td>0.202040</td>\n",
       "      <td>0.202268</td>\n",
       "      <td>0.195908</td>\n",
       "      <td>0.222837</td>\n",
       "    </tr>\n",
       "    <tr>\n",
       "      <th>Salary</th>\n",
       "      <td>-0.018403</td>\n",
       "      <td>0.202282</td>\n",
       "      <td>1.000000</td>\n",
       "      <td>0.994006</td>\n",
       "      <td>1.000000</td>\n",
       "      <td>0.811713</td>\n",
       "      <td>-0.390488</td>\n",
       "      <td>0.346498</td>\n",
       "      <td>0.999859</td>\n",
       "      <td>0.999997</td>\n",
       "      <td>0.995928</td>\n",
       "      <td>0.603796</td>\n",
       "    </tr>\n",
       "    <tr>\n",
       "      <th>Base_pay</th>\n",
       "      <td>-0.019262</td>\n",
       "      <td>0.192930</td>\n",
       "      <td>0.994006</td>\n",
       "      <td>1.000000</td>\n",
       "      <td>0.994006</td>\n",
       "      <td>0.808311</td>\n",
       "      <td>-0.390056</td>\n",
       "      <td>0.339834</td>\n",
       "      <td>0.993859</td>\n",
       "      <td>0.994002</td>\n",
       "      <td>0.989943</td>\n",
       "      <td>0.597308</td>\n",
       "    </tr>\n",
       "    <tr>\n",
       "      <th>Bonus</th>\n",
       "      <td>-0.018403</td>\n",
       "      <td>0.202282</td>\n",
       "      <td>1.000000</td>\n",
       "      <td>0.994006</td>\n",
       "      <td>1.000000</td>\n",
       "      <td>0.811713</td>\n",
       "      <td>-0.390488</td>\n",
       "      <td>0.346498</td>\n",
       "      <td>0.999859</td>\n",
       "      <td>0.999997</td>\n",
       "      <td>0.995928</td>\n",
       "      <td>0.603796</td>\n",
       "    </tr>\n",
       "    <tr>\n",
       "      <th>Unit_Price</th>\n",
       "      <td>-0.019480</td>\n",
       "      <td>0.128266</td>\n",
       "      <td>0.811713</td>\n",
       "      <td>0.808311</td>\n",
       "      <td>0.811713</td>\n",
       "      <td>1.000000</td>\n",
       "      <td>-0.324230</td>\n",
       "      <td>0.263699</td>\n",
       "      <td>0.812412</td>\n",
       "      <td>0.811735</td>\n",
       "      <td>0.807761</td>\n",
       "      <td>0.550062</td>\n",
       "    </tr>\n",
       "    <tr>\n",
       "      <th>Volume</th>\n",
       "      <td>-0.002192</td>\n",
       "      <td>-0.039345</td>\n",
       "      <td>-0.390488</td>\n",
       "      <td>-0.390056</td>\n",
       "      <td>-0.390488</td>\n",
       "      <td>-0.324230</td>\n",
       "      <td>1.000000</td>\n",
       "      <td>-0.147108</td>\n",
       "      <td>-0.392209</td>\n",
       "      <td>-0.390505</td>\n",
       "      <td>-0.390624</td>\n",
       "      <td>-0.262077</td>\n",
       "    </tr>\n",
       "    <tr>\n",
       "      <th>closingbalance</th>\n",
       "      <td>-0.007485</td>\n",
       "      <td>0.440989</td>\n",
       "      <td>0.346498</td>\n",
       "      <td>0.339834</td>\n",
       "      <td>0.346498</td>\n",
       "      <td>0.263699</td>\n",
       "      <td>-0.147108</td>\n",
       "      <td>1.000000</td>\n",
       "      <td>0.346278</td>\n",
       "      <td>0.346485</td>\n",
       "      <td>0.341554</td>\n",
       "      <td>0.365927</td>\n",
       "    </tr>\n",
       "    <tr>\n",
       "      <th>low</th>\n",
       "      <td>-0.018103</td>\n",
       "      <td>0.202040</td>\n",
       "      <td>0.999859</td>\n",
       "      <td>0.993859</td>\n",
       "      <td>0.999859</td>\n",
       "      <td>0.812412</td>\n",
       "      <td>-0.392209</td>\n",
       "      <td>0.346278</td>\n",
       "      <td>1.000000</td>\n",
       "      <td>0.999856</td>\n",
       "      <td>0.995776</td>\n",
       "      <td>0.603752</td>\n",
       "    </tr>\n",
       "    <tr>\n",
       "      <th>Unit_Sales</th>\n",
       "      <td>-0.018363</td>\n",
       "      <td>0.202268</td>\n",
       "      <td>0.999997</td>\n",
       "      <td>0.994002</td>\n",
       "      <td>0.999997</td>\n",
       "      <td>0.811735</td>\n",
       "      <td>-0.390505</td>\n",
       "      <td>0.346485</td>\n",
       "      <td>0.999856</td>\n",
       "      <td>1.000000</td>\n",
       "      <td>0.995918</td>\n",
       "      <td>0.603779</td>\n",
       "    </tr>\n",
       "    <tr>\n",
       "      <th>Total_Sales</th>\n",
       "      <td>-0.019652</td>\n",
       "      <td>0.195908</td>\n",
       "      <td>0.995928</td>\n",
       "      <td>0.989943</td>\n",
       "      <td>0.995928</td>\n",
       "      <td>0.807761</td>\n",
       "      <td>-0.390624</td>\n",
       "      <td>0.341554</td>\n",
       "      <td>0.995776</td>\n",
       "      <td>0.995918</td>\n",
       "      <td>1.000000</td>\n",
       "      <td>0.598991</td>\n",
       "    </tr>\n",
       "    <tr>\n",
       "      <th>Months</th>\n",
       "      <td>-0.012282</td>\n",
       "      <td>0.222837</td>\n",
       "      <td>0.603796</td>\n",
       "      <td>0.597308</td>\n",
       "      <td>0.603796</td>\n",
       "      <td>0.550062</td>\n",
       "      <td>-0.262077</td>\n",
       "      <td>0.365927</td>\n",
       "      <td>0.603752</td>\n",
       "      <td>0.603779</td>\n",
       "      <td>0.598991</td>\n",
       "      <td>1.000000</td>\n",
       "    </tr>\n",
       "  </tbody>\n",
       "</table>\n",
       "</div>"
      ],
      "text/plain": [
       "                Business       Age    Salary  Base_pay     Bonus  Unit_Price  \\\n",
       "Business        1.000000 -0.008435 -0.018403 -0.019262 -0.018403   -0.019480   \n",
       "Age            -0.008435  1.000000  0.202282  0.192930  0.202282    0.128266   \n",
       "Salary         -0.018403  0.202282  1.000000  0.994006  1.000000    0.811713   \n",
       "Base_pay       -0.019262  0.192930  0.994006  1.000000  0.994006    0.808311   \n",
       "Bonus          -0.018403  0.202282  1.000000  0.994006  1.000000    0.811713   \n",
       "Unit_Price     -0.019480  0.128266  0.811713  0.808311  0.811713    1.000000   \n",
       "Volume         -0.002192 -0.039345 -0.390488 -0.390056 -0.390488   -0.324230   \n",
       "closingbalance -0.007485  0.440989  0.346498  0.339834  0.346498    0.263699   \n",
       "low            -0.018103  0.202040  0.999859  0.993859  0.999859    0.812412   \n",
       "Unit_Sales     -0.018363  0.202268  0.999997  0.994002  0.999997    0.811735   \n",
       "Total_Sales    -0.019652  0.195908  0.995928  0.989943  0.995928    0.807761   \n",
       "Months         -0.012282  0.222837  0.603796  0.597308  0.603796    0.550062   \n",
       "\n",
       "                  Volume  closingbalance       low  Unit_Sales  Total_Sales  \\\n",
       "Business       -0.002192       -0.007485 -0.018103   -0.018363    -0.019652   \n",
       "Age            -0.039345        0.440989  0.202040    0.202268     0.195908   \n",
       "Salary         -0.390488        0.346498  0.999859    0.999997     0.995928   \n",
       "Base_pay       -0.390056        0.339834  0.993859    0.994002     0.989943   \n",
       "Bonus          -0.390488        0.346498  0.999859    0.999997     0.995928   \n",
       "Unit_Price     -0.324230        0.263699  0.812412    0.811735     0.807761   \n",
       "Volume          1.000000       -0.147108 -0.392209   -0.390505    -0.390624   \n",
       "closingbalance -0.147108        1.000000  0.346278    0.346485     0.341554   \n",
       "low            -0.392209        0.346278  1.000000    0.999856     0.995776   \n",
       "Unit_Sales     -0.390505        0.346485  0.999856    1.000000     0.995918   \n",
       "Total_Sales    -0.390624        0.341554  0.995776    0.995918     1.000000   \n",
       "Months         -0.262077        0.365927  0.603752    0.603779     0.598991   \n",
       "\n",
       "                  Months  \n",
       "Business       -0.012282  \n",
       "Age             0.222837  \n",
       "Salary          0.603796  \n",
       "Base_pay        0.597308  \n",
       "Bonus           0.603796  \n",
       "Unit_Price      0.550062  \n",
       "Volume         -0.262077  \n",
       "closingbalance  0.365927  \n",
       "low             0.603752  \n",
       "Unit_Sales      0.603779  \n",
       "Total_Sales     0.598991  \n",
       "Months          1.000000  "
      ]
     },
     "execution_count": 52,
     "metadata": {},
     "output_type": "execute_result"
    }
   ],
   "source": [
    "hr.corr(method='spearman')"
   ]
  },
  {
   "cell_type": "code",
   "execution_count": 53,
   "id": "eb71dad5",
   "metadata": {},
   "outputs": [
    {
     "data": {
      "text/plain": [
       "<AxesSubplot:>"
      ]
     },
     "execution_count": 53,
     "metadata": {},
     "output_type": "execute_result"
    },
    {
     "data": {
      "image/png": "[encoded data removed]",
      "text/plain": [
       "<Figure size 1008x432 with 2 Axes>"
      ]
     },
     "metadata": {
      "needs_background": "light"
     },
     "output_type": "display_data"
    }
   ],
   "source": [
    "plt.figure(figsize=(14,6))\n",
    "sns.heatmap(hr.corr(method='spearman'),annot=True, cmap=\"coolwarm\")"
   ]
  },
  {
   "cell_type": "markdown",
   "id": "e69ea79e",
   "metadata": {},
   "source": [
    "### Relation between Salary and categorical variables "
   ]
  },
  {
   "cell_type": "code",
   "execution_count": 54,
   "id": "0dbeef1d",
   "metadata": {},
   "outputs": [
    {
     "data": {
      "text/plain": [
       "<AxesSubplot:xlabel='Gender', ylabel='count'>"
      ]
     },
     "execution_count": 54,
     "metadata": {},
     "output_type": "execute_result"
    },
    {
     "data": {
      "image/png": "[encoded data removed]",
      "text/plain": [
       "<Figure size 432x288 with 1 Axes>"
      ]
     },
     "metadata": {
      "needs_background": "light"
     },
     "output_type": "display_data"
    }
   ],
   "source": [
    "sns.countplot(x=hr.Gender)"
   ]
  },
  {
   "cell_type": "markdown",
   "id": "3746bdca",
   "metadata": {},
   "source": [
    "### there are slightly high number of males as comapre to female"
   ]
  },
  {
   "cell_type": "markdown",
   "id": "6c89e594",
   "metadata": {},
   "source": [
    "#### plotting boxplot for Gender and salary"
   ]
  },
  {
   "cell_type": "code",
   "execution_count": 55,
   "id": "1f14d187",
   "metadata": {},
   "outputs": [
    {
     "data": {
      "text/plain": [
       "<AxesSubplot:xlabel='Gender', ylabel='Salary'>"
      ]
     },
     "execution_count": 55,
     "metadata": {},
     "output_type": "execute_result"
    },
    {
     "data": {
      "image/png": "[encoded data removed]",
      "text/plain": [
       "<Figure size 432x288 with 1 Axes>"
      ]
     },
     "metadata": {
      "needs_background": "light"
     },
     "output_type": "display_data"
    }
   ],
   "source": [
    "\n",
    "sns.boxplot(x=hr['Gender'],y=hr['Salary'])"
   ]
  },
  {
   "cell_type": "code",
   "execution_count": 61,
   "id": "c32d7589",
   "metadata": {},
   "outputs": [
    {
     "ename": "NameError",
     "evalue": "name 'Gender' is not defined",
     "output_type": "error",
     "traceback": [
      "\u001b[1;31m---------------------------------------------------------------------------\u001b[0m",
      "\u001b[1;31mNameError\u001b[0m                                 Traceback (most recent call last)",
      "\u001b[1;32m<ipython-input-61-593635ff718f>\u001b[0m in \u001b[0;36m<module>\u001b[1;34m\u001b[0m\n\u001b[1;32m----> 1\u001b[1;33m \u001b[0mstats\u001b[0m\u001b[1;33m.\u001b[0m\u001b[0mf_oneway\u001b[0m\u001b[1;33m(\u001b[0m\u001b[0mGender\u001b[0m\u001b[1;33m,\u001b[0m\u001b[0mSalary\u001b[0m\u001b[1;33m)\u001b[0m\u001b[1;33m\u001b[0m\u001b[1;33m\u001b[0m\u001b[0m\n\u001b[0m",
      "\u001b[1;31mNameError\u001b[0m: name 'Gender' is not defined"
     ]
    }
   ],
   "source": [
    "stats.f_oneway(Gender,Salary)"
   ]
  },
  {
   "cell_type": "code",
   "execution_count": null,
   "id": "3047cbee",
   "metadata": {},
   "outputs": [],
   "source": []
  },
  {
   "cell_type": "markdown",
   "id": "6435e05a",
   "metadata": {},
   "source": [
    "### median is same for gender so they are not effecting salary "
   ]
  },
  {
   "cell_type": "markdown",
   "id": "02e78fb2",
   "metadata": {},
   "source": [
    "#### plotting boxplot for Business and salary"
   ]
  },
  {
   "cell_type": "code",
   "execution_count": null,
   "id": "4d889196",
   "metadata": {},
   "outputs": [],
   "source": [
    "sns.boxplot(x=hr['Business'],y=hr['Salary'])"
   ]
  },
  {
   "cell_type": "code",
   "execution_count": null,
   "id": "55b299ef",
   "metadata": {},
   "outputs": [],
   "source": [
    "#median is same for business so they are no effecting salary "
   ]
  },
  {
   "cell_type": "markdown",
   "id": "c3c2126c",
   "metadata": {},
   "source": [
    "#### plotting boxplot for Education and salary"
   ]
  },
  {
   "cell_type": "code",
   "execution_count": null,
   "id": "341034b8",
   "metadata": {},
   "outputs": [],
   "source": [
    "sns.boxplot(x=hr['Education'],y=hr['Salary'])"
   ]
  },
  {
   "cell_type": "markdown",
   "id": "001ca47b",
   "metadata": {},
   "source": [
    "#### here median is varying so salary is dependent based on education"
   ]
  },
  {
   "cell_type": "code",
   "execution_count": 63,
   "id": "c19bf287",
   "metadata": {},
   "outputs": [
    {
     "data": {
      "text/plain": [
       "Education\n",
       "Graduation              91731.465271\n",
       "High School or less      8021.192905\n",
       "Intermediate             8797.040201\n",
       "PG                     106455.698134\n",
       "Name: Salary, dtype: float64"
      ]
     },
     "execution_count": 63,
     "metadata": {},
     "output_type": "execute_result"
    }
   ],
   "source": [
    "#Grouping Education and Salary to make pie chart \n",
    " \n",
    "data=hr.groupby('Education')['Salary'].mean()\n",
    "data"
   ]
  },
  {
   "cell_type": "code",
   "execution_count": 64,
   "id": "8023ad5d",
   "metadata": {},
   "outputs": [
    {
     "data": {
      "text/plain": [
       "([<matplotlib.patches.Wedge at 0xb3561b7c10>,\n",
       "  <matplotlib.patches.Wedge at 0xb3561c5340>,\n",
       "  <matplotlib.patches.Wedge at 0xb3561c59d0>,\n",
       "  <matplotlib.patches.Wedge at 0xb3561d20a0>],\n",
       " [Text(0.2512511965845778, 1.0709214892861278, 'Graduation'),\n",
       "  Text(-1.03567109365656, 0.37065534633163577, 'High School or less'),\n",
       "  Text(-1.094728187134633, 0.10756484691998602, 'Intermediate'),\n",
       "  Text(0.016827559436772176, -1.0998712803066557, 'PG')],\n",
       " [Text(0.1370461072279515, 0.5841389941560696, '43%'),\n",
       "  Text(-0.5649115056308509, 0.2021756434536195, '4%'),\n",
       "  Text(-0.5971244657097998, 0.058671734683628726, '4%'),\n",
       "  Text(0.009178668783693913, -0.5999297892581757, '50%')])"
      ]
     },
     "execution_count": 64,
     "metadata": {},
     "output_type": "execute_result"
    },
    {
     "data": {
      "image/png": "[encoded data removed]",
      "text/plain": [
       "<Figure size 432x504 with 1 Axes>"
      ]
     },
     "metadata": {},
     "output_type": "display_data"
    }
   ],
   "source": [
    "Education=['Graduation','High School or less','Intermediate','PG'] \n",
    "fig = plt.figure(figsize =(6, 7))\n",
    "plt.pie(data, labels =Education,colors=sns.color_palette('muted'),autopct='%.0f%%')"
   ]
  },
  {
   "cell_type": "markdown",
   "id": "5e891e39",
   "metadata": {},
   "source": [
    "### here we can conclude that pg and graduation get more salaries "
   ]
  },
  {
   "cell_type": "markdown",
   "id": "319681e7",
   "metadata": {},
   "source": [
    "#### plotting boxplot for Dependancies and salary"
   ]
  },
  {
   "cell_type": "code",
   "execution_count": null,
   "id": "260a4c8f",
   "metadata": {},
   "outputs": [],
   "source": [
    "sns.boxplot(hr['Dependancies'],hr['Salary'])"
   ]
  },
  {
   "cell_type": "code",
   "execution_count": null,
   "id": "bbf1668d",
   "metadata": {},
   "outputs": [],
   "source": [
    "#median is same for depandancy so they are not effecting salary "
   ]
  },
  {
   "cell_type": "markdown",
   "id": "9cc39237",
   "metadata": {},
   "source": [
    "#### plotting boxplot for calls and salary"
   ]
  },
  {
   "cell_type": "code",
   "execution_count": 34,
   "id": "27c7c936",
   "metadata": {},
   "outputs": [
    {
     "name": "stderr",
     "output_type": "stream",
     "text": [
      "C:\\Users\\DELL\\anaconda3\\lib\\site-packages\\seaborn\\_decorators.py:36: FutureWarning: Pass the following variables as keyword args: x, y. From version 0.12, the only valid positional argument will be `data`, and passing other arguments without an explicit keyword will result in an error or misinterpretation.\n",
      "  warnings.warn(\n",
      "C:\\Users\\DELL\\anaconda3\\lib\\site-packages\\seaborn\\_decorators.py:36: FutureWarning: Pass the following variables as keyword args: x, y. From version 0.12, the only valid positional argument will be `data`, and passing other arguments without an explicit keyword will result in an error or misinterpretation.\n",
      "  warnings.warn(\n"
     ]
    },
    {
     "data": {
      "text/plain": [
       "<AxesSubplot:xlabel='Calls', ylabel='Salary'>"
      ]
     },
     "execution_count": 34,
     "metadata": {},
     "output_type": "execute_result"
    },
    {
     "data": {
      "text/plain": [
       "<AxesSubplot:xlabel='Calls', ylabel='Salary'>"
      ]
     },
     "execution_count": 34,
     "metadata": {},
     "output_type": "execute_result"
    },
    {
     "data": {
      "image/png": "[encoded data removed]",
      "text/plain": [
       "<Figure size 432x288 with 1 Axes>"
      ]
     },
     "metadata": {
      "needs_background": "light"
     },
     "output_type": "display_data"
    },
    {
     "data": {
      "image/png": "[encoded data removed]",
      "text/plain": [
       "<Figure size 432x288 with 1 Axes>"
      ]
     },
     "metadata": {
      "needs_background": "light"
     },
     "output_type": "display_data"
    }
   ],
   "source": [
    "\n",
    "sns.boxplot(hr['Calls'],hr['Salary'])"
   ]
  },
  {
   "cell_type": "markdown",
   "id": "97bb5d8b",
   "metadata": {},
   "source": [
    "#### plotting boxplot for Type and salary"
   ]
  },
  {
   "cell_type": "code",
   "execution_count": null,
   "id": "62579a04",
   "metadata": {},
   "outputs": [],
   "source": [
    "sns.boxplot(hr['Type'],hr['Salary'])"
   ]
  },
  {
   "cell_type": "markdown",
   "id": "45823fd4",
   "metadata": {},
   "source": [
    "#### plotting boxplot for Billing and salary"
   ]
  },
  {
   "cell_type": "code",
   "execution_count": null,
   "id": "00e70cb8",
   "metadata": {},
   "outputs": [],
   "source": [
    "sns.boxplot(hr['Billing'],hr['Salary'])"
   ]
  },
  {
   "cell_type": "markdown",
   "id": "6400ecb8",
   "metadata": {},
   "source": [
    "#### plotting boxplot for Rating and salary"
   ]
  },
  {
   "cell_type": "code",
   "execution_count": null,
   "id": "0d30fcab",
   "metadata": {},
   "outputs": [],
   "source": [
    "sns.boxplot(hr['Rating'],hr['Salary'])"
   ]
  },
  {
   "cell_type": "markdown",
   "id": "81ebbc41",
   "metadata": {},
   "source": [
    "### from above all histplot and boxplot we can conclude that all variables like Gender,Business,Type,Rating,Billing,Calls,Dependancies are not effecting salary in anyhow"
   ]
  },
  {
   "cell_type": "markdown",
   "id": "efde6a1b",
   "metadata": {},
   "source": [
    "### Relation between numeric and salary variable"
   ]
  },
  {
   "cell_type": "code",
   "execution_count": null,
   "id": "b62d6335",
   "metadata": {},
   "outputs": [],
   "source": [
    "sns.scatterplot(hr['Salary'],hr['Age'])"
   ]
  },
  {
   "cell_type": "markdown",
   "id": "c24f2886",
   "metadata": {},
   "source": [
    "#### salary and age are not correlated to each other"
   ]
  },
  {
   "cell_type": "code",
   "execution_count": null,
   "id": "b126ea66",
   "metadata": {},
   "outputs": [],
   "source": [
    "sns.scatterplot(hr['Salary'],hr['Base_pay'])"
   ]
  },
  {
   "cell_type": "code",
   "execution_count": null,
   "id": "3efd83b1",
   "metadata": {},
   "outputs": [],
   "source": [
    "sns.regplot(hr['Salary'],hr['Base_pay'],line_kws={'linewidth':3,'color':'darkblue'})"
   ]
  },
  {
   "cell_type": "markdown",
   "id": "eeeb50b2",
   "metadata": {},
   "source": [
    "#### salary and Base_pay are highly correlated to each other"
   ]
  },
  {
   "cell_type": "code",
   "execution_count": null,
   "id": "596ee2cb",
   "metadata": {},
   "outputs": [],
   "source": [
    "sns.scatterplot(hr['Salary'],hr['Bonus'])"
   ]
  },
  {
   "cell_type": "code",
   "execution_count": null,
   "id": "f4e7fd9a",
   "metadata": {},
   "outputs": [],
   "source": [
    "sns.regplot(hr['Salary'],hr['Bonus'],line_kws={'linewidth':3,'color':'darkblue'})"
   ]
  },
  {
   "cell_type": "markdown",
   "id": "30de0788",
   "metadata": {},
   "source": [
    "#### salary and Bonus are highly correlated to each other"
   ]
  },
  {
   "cell_type": "code",
   "execution_count": null,
   "id": "0c6e99f8",
   "metadata": {},
   "outputs": [],
   "source": [
    "sns.scatterplot(hr['Salary'],hr['Unit_Price'])"
   ]
  },
  {
   "cell_type": "code",
   "execution_count": null,
   "id": "4d781cd2",
   "metadata": {},
   "outputs": [],
   "source": [
    "sns.regplot(hr['Salary'],hr['Unit_Price'],line_kws={'linewidth':3,'color':'darkblue'})"
   ]
  },
  {
   "cell_type": "code",
   "execution_count": null,
   "id": "8d059da0",
   "metadata": {},
   "outputs": [],
   "source": [
    "sns.scatterplot(hr['Salary'],hr['Volume'])"
   ]
  },
  {
   "cell_type": "code",
   "execution_count": null,
   "id": "e365199d",
   "metadata": {},
   "outputs": [],
   "source": [
    "sns.regplot(hr['Salary'],hr['Volume'],line_kws={'linewidth':3,'color':'darkblue'})"
   ]
  },
  {
   "cell_type": "code",
   "execution_count": null,
   "id": "43a4b9d9",
   "metadata": {},
   "outputs": [],
   "source": [
    "sns.regplot(hr['Salary'],hr['closingbalance'],line_kws={'linewidth':3,'color':'darkblue'})"
   ]
  },
  {
   "cell_type": "code",
   "execution_count": null,
   "id": "9808338b",
   "metadata": {},
   "outputs": [],
   "source": [
    "sns.regplot(hr['Salary'],hr['low'],line_kws={'linewidth':3,'color':'darkblue'})"
   ]
  },
  {
   "cell_type": "code",
   "execution_count": null,
   "id": "482e8592",
   "metadata": {},
   "outputs": [],
   "source": [
    "sns.regplot(hr['Salary'],hr['Months'],line_kws={'linewidth':3,'color':'darkblue'})"
   ]
  },
  {
   "cell_type": "code",
   "execution_count": null,
   "id": "b318a1a4",
   "metadata": {},
   "outputs": [],
   "source": [
    "sns.scatterplot(hr['Salary'],hr['Unit_Sales'])"
   ]
  },
  {
   "cell_type": "code",
   "execution_count": null,
   "id": "717c2bc3",
   "metadata": {},
   "outputs": [],
   "source": [
    "sns.regplot(hr['Salary'],hr['Unit_Sales'],line_kws={'linewidth':3,'color':'darkblue'})"
   ]
  },
  {
   "cell_type": "markdown",
   "id": "fcdc5603",
   "metadata": {},
   "source": [
    "### from above scatter plots we can conclude that unit price,unit sales,Months,low,Volume,closing balance are not correlated to each other\n"
   ]
  },
  {
   "cell_type": "markdown",
   "id": "47eb1aaf",
   "metadata": {},
   "source": [
    "### so droping those column which are highly correlated to each other and not affecting salary"
   ]
  },
  {
   "cell_type": "code",
   "execution_count": null,
   "id": "d4a924da",
   "metadata": {},
   "outputs": [],
   "source": [
    "hr.drop(['Gender','Business','Dependancies','Calls','Type','Billing','Rating',\n",
    "         'closingbalance','low','Volume','Unit_Price','Unit_Sales',],axis=1, inplace=True)"
   ]
  },
  {
   "cell_type": "markdown",
   "id": "c5cf8657",
   "metadata": {},
   "source": [
    "##### looking for updated dataset "
   ]
  },
  {
   "cell_type": "code",
   "execution_count": null,
   "id": "ebf9079c",
   "metadata": {},
   "outputs": [],
   "source": [
    "\n",
    "hr.head(3)"
   ]
  },
  {
   "cell_type": "code",
   "execution_count": null,
   "id": "2a19b943",
   "metadata": {},
   "outputs": [],
   "source": [
    "hr.shape"
   ]
  },
  {
   "cell_type": "markdown",
   "id": "49acbdff",
   "metadata": {},
   "source": [
    "#### now datest contains 5000 rows and 7 columns"
   ]
  },
  {
   "cell_type": "markdown",
   "id": "5b0e6b46",
   "metadata": {},
   "source": [
    "### Handeling outliers using IQR Method\n"
   ]
  },
  {
   "cell_type": "code",
   "execution_count": null,
   "id": "8a023ff0",
   "metadata": {},
   "outputs": [],
   "source": [
    "sns.boxplot(hr['Salary'])"
   ]
  },
  {
   "cell_type": "code",
   "execution_count": null,
   "id": "a51b15b5",
   "metadata": {},
   "outputs": [],
   "source": [
    "q1=np.quantile(hr['Salary'],0.25)\n",
    "q2=np.quantile(hr['Salary'],0.50)\n",
    "q3=np.quantile(hr['Salary'],0.75)\n",
    "IQR=q3-q1\n",
    "print('IQR',IQR)\n",
    "upper_whisker=q3+(1.5*IQR)\n",
    "lower_whisker=q1-(1.5*IQR)"
   ]
  },
  {
   "cell_type": "code",
   "execution_count": null,
   "id": "b4c4264b",
   "metadata": {},
   "outputs": [],
   "source": [
    "hr['Salary']=hr['Salary'][(hr['Salary']>lower_whisker)&(hr['Salary']<upper_whisker)]"
   ]
  },
  {
   "cell_type": "code",
   "execution_count": null,
   "id": "3e9c0596",
   "metadata": {},
   "outputs": [],
   "source": [
    "hr['Salary'].isnull().sum() "
   ]
  },
  {
   "cell_type": "code",
   "execution_count": null,
   "id": "49f66a8e",
   "metadata": {},
   "outputs": [],
   "source": [
    "hr['Salary']=hr['Salary'].fillna(hr['Salary'].mean())"
   ]
  },
  {
   "cell_type": "code",
   "execution_count": null,
   "id": "0c5e7360",
   "metadata": {},
   "outputs": [],
   "source": [
    "hr['Salary'].isnull().sum()"
   ]
  },
  {
   "cell_type": "code",
   "execution_count": null,
   "id": "ee9410fc",
   "metadata": {},
   "outputs": [],
   "source": [
    "sns.boxplot(hr['Salary'])"
   ]
  },
  {
   "cell_type": "code",
   "execution_count": null,
   "id": "c126abb0",
   "metadata": {},
   "outputs": [],
   "source": [
    "sns.boxplot(hr['Bonus'])"
   ]
  },
  {
   "cell_type": "code",
   "execution_count": null,
   "id": "9d7eb806",
   "metadata": {},
   "outputs": [],
   "source": [
    "q1=np.quantile(hr['Bonus'],0.25)\n",
    "q2=np.quantile(hr['Bonus'],0.50)\n",
    "q3=np.quantile(hr['Bonus'],0.75)\n",
    "IQR=q3-q1\n",
    "print('IQR',IQR)\n",
    "upper_whisker=q3+(1.5*IQR)\n",
    "lower_whisker=q1-(1.5*IQR)"
   ]
  },
  {
   "cell_type": "code",
   "execution_count": null,
   "id": "dc796c7a",
   "metadata": {},
   "outputs": [],
   "source": [
    "hr['Bonus']=hr['Bonus'][(hr['Bonus']>lower_whisker)&(hr['Bonus']<upper_whisker)]"
   ]
  },
  {
   "cell_type": "code",
   "execution_count": null,
   "id": "8e077e45",
   "metadata": {},
   "outputs": [],
   "source": [
    "hr['Bonus'].isnull().sum()"
   ]
  },
  {
   "cell_type": "code",
   "execution_count": null,
   "id": "71ea89e2",
   "metadata": {},
   "outputs": [],
   "source": [
    "hr['Bonus']=hr['Bonus'].fillna(hr['Bonus'].mean())"
   ]
  },
  {
   "cell_type": "code",
   "execution_count": null,
   "id": "cf35b655",
   "metadata": {},
   "outputs": [],
   "source": [
    "hr['Bonus'].isnull().sum()"
   ]
  },
  {
   "cell_type": "code",
   "execution_count": null,
   "id": "cf12c2d7",
   "metadata": {},
   "outputs": [],
   "source": [
    "sns.boxplot(hr['Bonus'])"
   ]
  },
  {
   "cell_type": "code",
   "execution_count": null,
   "id": "e2ef85b4",
   "metadata": {},
   "outputs": [],
   "source": [
    "sns.boxplot(hr['Months'])"
   ]
  },
  {
   "cell_type": "markdown",
   "id": "bb6e3dff",
   "metadata": {},
   "source": [
    "#### here we can see that there were numbers of outliers in salary and bonus columns so we handled them using IQR method"
   ]
  },
  {
   "cell_type": "code",
   "execution_count": null,
   "id": "4b7cafad",
   "metadata": {},
   "outputs": [],
   "source": [
    "hr"
   ]
  },
  {
   "cell_type": "markdown",
   "id": "0d668557",
   "metadata": {},
   "source": [
    "### making dummy variable of categorical data(Education)  and removing Education column and  putting it in main_df variable"
   ]
  },
  {
   "cell_type": "code",
   "execution_count": null,
   "id": "13865805",
   "metadata": {},
   "outputs": [],
   "source": [
    "temp_df = pd.get_dummies(hr['Education'], drop_first=True)\n",
    "temp_df\n",
    "\n",
    "hr = pd.concat([hr.drop(columns='Education'), temp_df], axis=1)\n",
    "hr.head(3)\n",
    "\n",
    "main_df = hr.copy()"
   ]
  },
  {
   "cell_type": "code",
   "execution_count": null,
   "id": "d1178fb0",
   "metadata": {},
   "outputs": [],
   "source": [
    "#looking for datset\n",
    "main_df.head(2)"
   ]
  },
  {
   "cell_type": "markdown",
   "id": "7da761fb",
   "metadata": {},
   "source": [
    "### Model Building"
   ]
  },
  {
   "cell_type": "markdown",
   "id": "00a9c68e",
   "metadata": {},
   "source": [
    "### Train test split"
   ]
  },
  {
   "cell_type": "markdown",
   "id": "26385ee0",
   "metadata": {},
   "source": [
    "#### y will predict the salary "
   ]
  },
  {
   "cell_type": "code",
   "execution_count": null,
   "id": "4f991070",
   "metadata": {},
   "outputs": [],
   "source": [
    "x=main_df.drop('Salary',axis=1)\n",
    "y=main_df['Salary']    #target variable"
   ]
  },
  {
   "cell_type": "code",
   "execution_count": null,
   "id": "dfb9b374",
   "metadata": {},
   "outputs": [],
   "source": [
    "from sklearn.preprocessing import StandardScaler\n",
    "x = StandardScaler().fit_transform(x)"
   ]
  },
  {
   "cell_type": "code",
   "execution_count": null,
   "id": "991b3506",
   "metadata": {},
   "outputs": [],
   "source": [
    "x"
   ]
  },
  {
   "cell_type": "code",
   "execution_count": null,
   "id": "a864ff96",
   "metadata": {},
   "outputs": [],
   "source": [
    "#importing train_test_split using sklearn.model_Selection\n",
    "from sklearn.model_selection import train_test_split\n",
    "x_train,x_test,y_train,y_test=train_test_split(x,y,test_size=0.2,random_state=1) "
   ]
  },
  {
   "cell_type": "code",
   "execution_count": null,
   "id": "1fa49141",
   "metadata": {},
   "outputs": [],
   "source": [
    "#Import Lazypredict and import all libraries\n",
    "import lazypredict\n",
    "from lazypredict.Supervised import LazyRegressor"
   ]
  },
  {
   "cell_type": "code",
   "execution_count": null,
   "id": "002740df",
   "metadata": {},
   "outputs": [],
   "source": [
    "clf = LazyRegressor(verbose=0,ignore_warnings=True, custom_metric=None)\n",
    "models, predictions = clf.fit(x_train, x_test, y_train, y_test)"
   ]
  },
  {
   "cell_type": "code",
   "execution_count": null,
   "id": "fefe3259",
   "metadata": {},
   "outputs": [],
   "source": [
    "print(models)"
   ]
  },
  {
   "cell_type": "code",
   "execution_count": null,
   "id": "b9a09ccb",
   "metadata": {},
   "outputs": [],
   "source": [
    "#here salary type is continuous.so first we perform linear regression"
   ]
  },
  {
   "cell_type": "markdown",
   "id": "6750976a",
   "metadata": {},
   "source": [
    "### Linear Regression"
   ]
  },
  {
   "cell_type": "code",
   "execution_count": null,
   "id": "7a9e1d30",
   "metadata": {},
   "outputs": [],
   "source": [
    "#importing linearregression from sklearn\n",
    "from sklearn.linear_model import LinearRegression"
   ]
  },
  {
   "cell_type": "code",
   "execution_count": null,
   "id": "aa829f3a",
   "metadata": {},
   "outputs": [],
   "source": [
    "#fitting training data to linear model\n",
    "model=LinearRegression()\n",
    "model.fit(x_train,y_train)"
   ]
  },
  {
   "cell_type": "code",
   "execution_count": null,
   "id": "664d44aa",
   "metadata": {},
   "outputs": [],
   "source": [
    "#using predict to values of x_test\n",
    "predictions=model.predict(x_test)\n"
   ]
  },
  {
   "cell_type": "code",
   "execution_count": null,
   "id": "b90647c6",
   "metadata": {},
   "outputs": [],
   "source": [
    "#chceking accuracy for test data. \n",
    "model.score(x_test, y_test)"
   ]
  },
  {
   "cell_type": "markdown",
   "id": "2b5d1a82",
   "metadata": {},
   "source": [
    "#### here model score is 100 % ."
   ]
  },
  {
   "cell_type": "code",
   "execution_count": null,
   "id": "2f229d49",
   "metadata": {},
   "outputs": [],
   "source": [
    "#finding coef of data\n",
    "model.coef_"
   ]
  },
  {
   "cell_type": "code",
   "execution_count": null,
   "id": "9a38cec8",
   "metadata": {},
   "outputs": [],
   "source": [
    "sns.scatterplot(x=y_test,y=predictions)"
   ]
  },
  {
   "cell_type": "code",
   "execution_count": null,
   "id": "37b45f3d",
   "metadata": {},
   "outputs": [],
   "source": [
    "#finding intercept of data\n",
    "model.intercept_"
   ]
  },
  {
   "cell_type": "code",
   "execution_count": null,
   "id": "430979cc",
   "metadata": {},
   "outputs": [],
   "source": [
    "#importing metrics from sklearn\n",
    "#finding mean_absolute error ,root mean absolute error and mean squared error\n",
    "from sklearn import metrics\n",
    "print(\"mean_absolute_error - \", metrics.mean_absolute_error(y_test, predictions))\n",
    "print(\"Root_mean_absolute_error - \", np.sqrt(metrics.mean_absolute_error(y_test, predictions)))\n",
    "print(\"mean_squared_error - \", metrics.mean_squared_error(y_test, predictions))"
   ]
  },
  {
   "cell_type": "code",
   "execution_count": null,
   "id": "55190cbc",
   "metadata": {},
   "outputs": [],
   "source": [
    "print_df=pd.DataFrame({'test values':y_test,'predicted values':predictions})\n",
    "print_df"
   ]
  },
  {
   "cell_type": "markdown",
   "id": "b5f530bf",
   "metadata": {},
   "source": [
    "### Decission Tree"
   ]
  },
  {
   "cell_type": "code",
   "execution_count": null,
   "id": "2de2fb0d",
   "metadata": {},
   "outputs": [],
   "source": [
    "#x_train,x_test,y_train,y_test=train_test_split(x,y,test_size=0.2,random_state=1) "
   ]
  },
  {
   "cell_type": "code",
   "execution_count": null,
   "id": "fa259247",
   "metadata": {},
   "outputs": [],
   "source": [
    "#importing decisiontreeregressor from sklearn\n",
    "from sklearn.tree import DecisionTreeRegressor\n",
    "from sklearn.metrics import r2_score,mean_squared_error\n",
    "dtree=DecisionTreeRegressor(max_depth=3)\n",
    "dtree.fit(x_train,y_train)"
   ]
  },
  {
   "cell_type": "code",
   "execution_count": null,
   "id": "6f3254a0",
   "metadata": {},
   "outputs": [],
   "source": [
    "print(dtree.score(x_test,y_test))"
   ]
  },
  {
   "cell_type": "code",
   "execution_count": null,
   "id": "6a33c6d8",
   "metadata": {},
   "outputs": [],
   "source": [
    "#predict value for testing data\n",
    "predictions=dtree.predict(x_test)"
   ]
  },
  {
   "cell_type": "code",
   "execution_count": null,
   "id": "1b046699",
   "metadata": {},
   "outputs": [],
   "source": [
    "mse=mean_squared_error(y_test,predictions)\n",
    "rmse=np.sqrt(mse)\n",
    "rmse\n",
    "r2=r2_score(y_test,predictions)\n",
    "print('model performance for test')\n",
    "print('rmse is -',format(rmse))\n",
    "print('r2 score is -',format(r2))"
   ]
  },
  {
   "cell_type": "code",
   "execution_count": null,
   "id": "1d714583",
   "metadata": {},
   "outputs": [],
   "source": [
    "sns.scatterplot(x=y_test,y=predictions)"
   ]
  },
  {
   "cell_type": "code",
   "execution_count": null,
   "id": "82a494b4",
   "metadata": {},
   "outputs": [],
   "source": [
    "print_df=pd.DataFrame({'test values':y_test,'predicted values':predictions})\n",
    "print_df"
   ]
  },
  {
   "cell_type": "markdown",
   "id": "426106f3",
   "metadata": {},
   "source": [
    "#### Model score 96%"
   ]
  },
  {
   "cell_type": "markdown",
   "id": "a2c3c071",
   "metadata": {},
   "source": [
    "### Random Forest Regression"
   ]
  },
  {
   "cell_type": "code",
   "execution_count": null,
   "id": "ddc3195f",
   "metadata": {},
   "outputs": [],
   "source": [
    "# Fitting Random Forest Regression to the dataset\n",
    "# import the regressor\n",
    "from sklearn.ensemble import RandomForestRegressor\n",
    "from sklearn.metrics import r2_score,mean_squared_error\n",
    "  \n",
    " # create regressor object\n",
    "regressor = RandomForestRegressor()\n",
    "  \n",
    "# fit the regressor with x and y data\n",
    "regressor.fit(x, y)"
   ]
  },
  {
   "cell_type": "code",
   "execution_count": null,
   "id": "0826c9ce",
   "metadata": {},
   "outputs": [],
   "source": [
    "predict=regressor.predict(x_test)\n"
   ]
  },
  {
   "cell_type": "code",
   "execution_count": null,
   "id": "84383498",
   "metadata": {},
   "outputs": [],
   "source": [
    "mse=mean_squared_error(y_test,predict)\n",
    "rmse=np.sqrt(mse)\n",
    "rmse\n",
    "r2=r2_score(y_test,predict)\n",
    "print('model performance for test')\n",
    "print('rmse is -',format(rmse))\n",
    "print('r2 score is -',format(r2))"
   ]
  },
  {
   "cell_type": "markdown",
   "id": "a33ce5ce",
   "metadata": {},
   "source": [
    "#### model score 99%"
   ]
  },
  {
   "cell_type": "code",
   "execution_count": null,
   "id": "6ae538e7",
   "metadata": {},
   "outputs": [],
   "source": [
    "#visualise reslut from randomforest regression model"
   ]
  },
  {
   "cell_type": "code",
   "execution_count": null,
   "id": "a37038c8",
   "metadata": {},
   "outputs": [],
   "source": [
    "sns.scatterplot(x=y_test,y=predict)"
   ]
  },
  {
   "cell_type": "code",
   "execution_count": null,
   "id": "2de844c2",
   "metadata": {},
   "outputs": [],
   "source": [
    "print_df=pd.DataFrame({'test values':y_test,'predicted values':predict})\n",
    "print_df"
   ]
  },
  {
   "cell_type": "markdown",
   "id": "bd9f5dd3",
   "metadata": {},
   "source": [
    "### predict values are almost similar to test values"
   ]
  }
 ],
 "metadata": {
  "kernelspec": {
   "display_name": "Python 3",
   "language": "python",
   "name": "python3"
  },
  "language_info": {
   "codemirror_mode": {
    "name": "ipython",
    "version": 3
   },
   "file_extension": ".py",
   "mimetype": "text/x-python",
   "name": "python",
   "nbconvert_exporter": "python",
   "pygments_lexer": "ipython3",
   "version": "3.8.8"
  }
 },
 "nbformat": 4,
 "nbformat_minor": 5
}
